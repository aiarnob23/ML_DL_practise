{
 "cells": [
  {
   "cell_type": "code",
   "execution_count": null,
   "id": "c210be9b-2326-42bf-8a00-3999f21ffc04",
   "metadata": {},
   "outputs": [],
   "source": [
    "from sklearn.ensemble import RandomForestRegressor\n",
    "from sklearn.model_selection import GridSearchCV, ShuffleSplit\n",
    "from sklearn.pipeline import make_pipeline\n",
    "from sklearn.preprocessing import StandardScaler\n",
    "from sklearn.metrics import mean_squared_error\n",
    "import pandas as pd\n",
    "import numpy as np\n",
    "\n",
    "def find_best_model_and_estimators(X_train, y_train):\n",
    "    model_params = {\n",
    "        'random_forest': {\n",
    "            'model': RandomForestRegressor(), \n",
    "            'params': {\n",
    "                'randomforestregressor__n_estimators': [50, 100, 200],\n",
    "                'randomforestregressor__max_depth': [None, 10, 20, 30, 40],\n",
    "                'randomforestregressor__min_samples_split': [2, 5, 10],\n",
    "                'randomforestregressor__min_samples_leaf': [1, 2, 4],\n",
    "                'randomforestregressor__criterion': ['squared_error', 'friedman_mse', 'absolute_error', 'poisson'],  # Fixed criterion\n",
    "                'randomforestregressor__bootstrap': [True, False],\n",
    "            }\n",
    "        }\n",
    "    }\n",
    "\n",
    "    scores = []\n",
    "    best_estimators = {}\n",
    "\n",
    "    cv = ShuffleSplit(n_splits=5, test_size=0.3, random_state=0)\n",
    "\n",
    "    for algo, mp in model_params.items():\n",
    "        pipe = make_pipeline(StandardScaler(), mp['model'])\n",
    "        clf = GridSearchCV(pipe, mp['params'], cv=cv, return_train_score=False, n_jobs=-1)\n",
    "        clf.fit(X_train, y_train)\n",
    "        \n",
    "        # Make predictions on the training set to compute RMSE\n",
    "        y_pred = clf.predict(X_train)\n",
    "        rmse = np.sqrt(mean_squared_error(y_train, y_pred))\n",
    "        \n",
    "        scores.append({\n",
    "            'model': algo,\n",
    "            'RMSE': rmse,\n",
    "            'best_params': clf.best_params_\n",
    "        })\n",
    "        \n",
    "        best_estimators[algo] = clf.best_estimator_\n",
    "\n",
    "    return pd.DataFrame(scores, columns=['model', 'RMSE', 'best_params']), best_estimators\n"
   ]
  }
 ],
 "metadata": {
  "kernelspec": {
   "display_name": "Python 3 (ipykernel)",
   "language": "python",
   "name": "python3"
  },
  "language_info": {
   "codemirror_mode": {
    "name": "ipython",
    "version": 3
   },
   "file_extension": ".py",
   "mimetype": "text/x-python",
   "name": "python",
   "nbconvert_exporter": "python",
   "pygments_lexer": "ipython3",
   "version": "3.13.3"
  }
 },
 "nbformat": 4,
 "nbformat_minor": 5
}
